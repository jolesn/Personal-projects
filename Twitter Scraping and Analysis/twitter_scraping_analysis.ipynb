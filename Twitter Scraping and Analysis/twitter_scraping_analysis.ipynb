{
 "cells": [
  {
   "cell_type": "markdown",
   "id": "52794b9c",
   "metadata": {},
   "source": [
    "# Retrieving Tweets Using SNSCRAPE and Dataset Analysis\n"
   ]
  },
  {
   "cell_type": "code",
   "execution_count": 1,
   "id": "e53419d1",
   "metadata": {},
   "outputs": [],
   "source": [
    "import snscrape.modules.twitter as sntwitter\n",
    "import pandas as pd\n",
    "import re\n",
    "import time\n",
    "import numpy as np\n",
    "import datetime as dt\n",
    "from pytz import timezone, all_timezones\n",
    "import matplotlib.pyplot as plt\n",
    "import seaborn as sns"
   ]
  },
  {
   "cell_type": "markdown",
   "id": "1a70016a",
   "metadata": {},
   "source": [
    "## Time Settings"
   ]
  },
  {
   "cell_type": "code",
   "execution_count": 2,
   "id": "48d20ad1",
   "metadata": {},
   "outputs": [
    {
     "name": "stdout",
     "output_type": "stream",
     "text": [
      "2022-06-10 02:00:00+09:00 2022-06-11 02:00:00+09:00\n"
     ]
    }
   ],
   "source": [
    "start_time = dt.datetime(2022,6,10,2,0,0)\n",
    "start_time_jst = timezone('Japan').localize(start_time)\n",
    "start_utc_timestamp = start_time_jst.astimezone(timezone('UTC')).timestamp()\n",
    "\n",
    "end_time = dt.datetime(2022,6,11,2,0,0)\n",
    "end_time_jst = timezone('Japan').localize(end_time)\n",
    "end_utc_timestamp = end_time_jst.astimezone(timezone('UTC')).timestamp()\n",
    "\n",
    "print(start_time_jst, end_time_jst)"
   ]
  },
  {
   "cell_type": "markdown",
   "id": "48e6a82a",
   "metadata": {},
   "source": [
    "## Extracting Tweets"
   ]
  },
  {
   "cell_type": "code",
   "execution_count": 41,
   "id": "18d00254",
   "metadata": {},
   "outputs": [],
   "source": [
    "# query used to get tweets\n",
    "query = f'since_time:{int(start_utc_timestamp)} until_time:{int(end_utc_timestamp)} near:\"Japan\"'\n",
    "\n",
    "# column names for the dataframe containing information from tweets\n",
    "column_names = ['tweet_date', 'user_id', 'likes','replies','retweets','quoted_count',\n",
    "                'contains_media','contains_links','conversation_id','hashtags','cashtags','tweet_content',\n",
    "                'account_date','user_verified','followers','following','total_tweets',\n",
    "                'total_likes','total_media_tweets','protected','user_location','language','device']\n",
    "                \n",
    "                \n",
    "tweets = [] # tweets will be stored here before being converted into pandas df\n",
    "\n",
    "while True:\n",
    "    \n",
    "    time.sleep(2) # this allows for the kernel to be interrupted without losing data\n",
    "    \n",
    "    # brake the loop if the time of the last tweet is smaller or equal to our end time (5 sec padding)\n",
    "    if len(tweets)>0:\n",
    "        if int(tweets[-1][0].timestamp()) <= start_utc_timestamp+5:\n",
    "            break\n",
    "        \n",
    "    try:\n",
    "\n",
    "        # loop to iterate over the tweets\n",
    "        for tweet in sntwitter.TwitterSearchScraper(query).get_items():\n",
    "            \n",
    "            if tweet.lang != \"ja\": # ignore non-japanese tweets\n",
    "                continue\n",
    "                \n",
    "            else:\n",
    "                # append all variables of interest into the tweets list\n",
    "                tweets.append([tweet.date, tweet.user.id,  \n",
    "\n",
    "                               tweet.likeCount, tweet.replyCount, tweet.retweetCount, tweet.quoteCount,\n",
    "                               tweet.media, tweet.outlinks, tweet.conversationId, # tweet related information\n",
    "\n",
    "                               tweet.hashtags, tweet.cashtags, # hashtags and cashtags\n",
    "\n",
    "                               re.sub(\"\\n\", \"\", tweet.content), # remove new lines from the tweet content\n",
    "                               \n",
    "                                # user related information\n",
    "                               tweet.user.created, tweet.user.verified, tweet.user.followersCount,\n",
    "                               tweet.user.friendsCount,tweet.user.statusesCount, tweet.user.favouritesCount,\n",
    "                               tweet.user.mediaCount,tweet.user.protected, tweet.user.location,\n",
    "\n",
    "                               tweet.lang, tweet.sourceLabel]) #language of the tweet and type of device used\n",
    "                \n",
    "                # gives and update on the progress\n",
    "                if len(tweets) % 5000 == 0:\n",
    "                    print(f'retrieved {len(tweets)} tweets and last tweet was made at {tweets[-1][0]}')\n",
    "    except:\n",
    "        # if the code brakes for some reason, this will cause it to restart 1 second from the last tweet\n",
    "        # that was analyzed. Subtracting 1 second from both times as sometimes twitter query\n",
    "        # fails to retrieve tweets for some time windows. Reason unkown.\n",
    "        start_utc_timestamp -= 1\n",
    "        end_utc_timestamp = int(tweets[-1][0].timestamp())-1\n",
    "        query = f'since_time:{int(start_utc_timestamp)} until_time:{int(end_utc_timestamp)} near:\"Japan\"'\n",
    "        print(f'query fialed. Adjusting query time. Current count of tweets is {len(tweets)}')\n"
   ]
  },
  {
   "cell_type": "code",
   "execution_count": 5,
   "id": "ad9e45e3",
   "metadata": {},
   "outputs": [
    {
     "data": {
      "text/plain": [
       "(3562251, 23)"
      ]
     },
     "execution_count": 5,
     "metadata": {},
     "output_type": "execute_result"
    }
   ],
   "source": [
    "# Convert tweets list into pandas df\n",
    "df = pd.DataFrame(tweets, columns=column_names)\n",
    "df.shape"
   ]
  },
  {
   "cell_type": "code",
   "execution_count": 9,
   "id": "aea3726c",
   "metadata": {},
   "outputs": [
    {
     "data": {
      "text/html": [
       "<div>\n",
       "<style scoped>\n",
       "    .dataframe tbody tr th:only-of-type {\n",
       "        vertical-align: middle;\n",
       "    }\n",
       "\n",
       "    .dataframe tbody tr th {\n",
       "        vertical-align: top;\n",
       "    }\n",
       "\n",
       "    .dataframe thead th {\n",
       "        text-align: right;\n",
       "    }\n",
       "</style>\n",
       "<table border=\"1\" class=\"dataframe\">\n",
       "  <thead>\n",
       "    <tr style=\"text-align: right;\">\n",
       "      <th></th>\n",
       "      <th>tweet_date</th>\n",
       "      <th>user_id</th>\n",
       "      <th>likes</th>\n",
       "      <th>replies</th>\n",
       "      <th>retweets</th>\n",
       "      <th>quoted_count</th>\n",
       "      <th>contains_media</th>\n",
       "      <th>contains_links</th>\n",
       "      <th>conversation_id</th>\n",
       "      <th>hashtags</th>\n",
       "      <th>...</th>\n",
       "      <th>user_verified</th>\n",
       "      <th>followers</th>\n",
       "      <th>following</th>\n",
       "      <th>total_tweets</th>\n",
       "      <th>total_likes</th>\n",
       "      <th>total_media_tweets</th>\n",
       "      <th>protected</th>\n",
       "      <th>user_location</th>\n",
       "      <th>language</th>\n",
       "      <th>device</th>\n",
       "    </tr>\n",
       "  </thead>\n",
       "  <tbody>\n",
       "    <tr>\n",
       "      <th>0</th>\n",
       "      <td>2022-06-10 16:58:51+00:00</td>\n",
       "      <td>173143804</td>\n",
       "      <td>0</td>\n",
       "      <td>0</td>\n",
       "      <td>0</td>\n",
       "      <td>0</td>\n",
       "      <td>NaN</td>\n",
       "      <td>NaN</td>\n",
       "      <td>1535305506218450944</td>\n",
       "      <td>NaN</td>\n",
       "      <td>...</td>\n",
       "      <td>False</td>\n",
       "      <td>734</td>\n",
       "      <td>384</td>\n",
       "      <td>76115</td>\n",
       "      <td>23808</td>\n",
       "      <td>5661</td>\n",
       "      <td>False</td>\n",
       "      <td>福岡県</td>\n",
       "      <td>ja</td>\n",
       "      <td>Twitter for iPhone</td>\n",
       "    </tr>\n",
       "    <tr>\n",
       "      <th>1</th>\n",
       "      <td>2022-06-10 16:58:51+00:00</td>\n",
       "      <td>146142843</td>\n",
       "      <td>0</td>\n",
       "      <td>0</td>\n",
       "      <td>0</td>\n",
       "      <td>0</td>\n",
       "      <td>NaN</td>\n",
       "      <td>NaN</td>\n",
       "      <td>1535305505954234368</td>\n",
       "      <td>['スパイファミリー']</td>\n",
       "      <td>...</td>\n",
       "      <td>False</td>\n",
       "      <td>409</td>\n",
       "      <td>221</td>\n",
       "      <td>149670</td>\n",
       "      <td>9204</td>\n",
       "      <td>3635</td>\n",
       "      <td>False</td>\n",
       "      <td>こおりやま</td>\n",
       "      <td>ja</td>\n",
       "      <td>Twitter for iPhone</td>\n",
       "    </tr>\n",
       "    <tr>\n",
       "      <th>2</th>\n",
       "      <td>2022-06-10 16:58:51+00:00</td>\n",
       "      <td>2884471884</td>\n",
       "      <td>0</td>\n",
       "      <td>1</td>\n",
       "      <td>1</td>\n",
       "      <td>0</td>\n",
       "      <td>NaN</td>\n",
       "      <td>NaN</td>\n",
       "      <td>1535302493777047553</td>\n",
       "      <td>NaN</td>\n",
       "      <td>...</td>\n",
       "      <td>False</td>\n",
       "      <td>198</td>\n",
       "      <td>436</td>\n",
       "      <td>19873</td>\n",
       "      <td>1627</td>\n",
       "      <td>328</td>\n",
       "      <td>False</td>\n",
       "      <td>日本 東京</td>\n",
       "      <td>ja</td>\n",
       "      <td>Twitter for iPhone</td>\n",
       "    </tr>\n",
       "  </tbody>\n",
       "</table>\n",
       "<p>3 rows × 23 columns</p>\n",
       "</div>"
      ],
      "text/plain": [
       "                  tweet_date     user_id  likes  replies  retweets  \\\n",
       "0  2022-06-10 16:58:51+00:00   173143804      0        0         0   \n",
       "1  2022-06-10 16:58:51+00:00   146142843      0        0         0   \n",
       "2  2022-06-10 16:58:51+00:00  2884471884      0        1         1   \n",
       "\n",
       "   quoted_count contains_media contains_links      conversation_id  \\\n",
       "0             0            NaN            NaN  1535305506218450944   \n",
       "1             0            NaN            NaN  1535305505954234368   \n",
       "2             0            NaN            NaN  1535302493777047553   \n",
       "\n",
       "       hashtags  ... user_verified followers following  total_tweets  \\\n",
       "0           NaN  ...         False       734       384         76115   \n",
       "1  ['スパイファミリー']  ...         False       409       221        149670   \n",
       "2           NaN  ...         False       198       436         19873   \n",
       "\n",
       "   total_likes  total_media_tweets  protected  user_location  language  \\\n",
       "0        23808                5661      False            福岡県        ja   \n",
       "1         9204                3635      False          こおりやま        ja   \n",
       "2         1627                 328      False          日本 東京        ja   \n",
       "\n",
       "               device  \n",
       "0  Twitter for iPhone  \n",
       "1  Twitter for iPhone  \n",
       "2  Twitter for iPhone  \n",
       "\n",
       "[3 rows x 23 columns]"
      ]
     },
     "execution_count": 9,
     "metadata": {},
     "output_type": "execute_result"
    }
   ],
   "source": [
    "# Peak at the df\n",
    "df.head(3)"
   ]
  },
  {
   "cell_type": "code",
   "execution_count": 10,
   "id": "874f9117",
   "metadata": {},
   "outputs": [
    {
     "data": {
      "text/plain": [
       "Index(['tweet_date', 'user_id', 'likes', 'replies', 'retweets', 'quoted_count',\n",
       "       'contains_media', 'contains_links', 'conversation_id', 'hashtags',\n",
       "       'cashtags', 'tweet_content', 'account_date', 'user_verified',\n",
       "       'followers', 'following', 'total_tweets', 'total_likes',\n",
       "       'total_media_tweets', 'protected', 'user_location', 'language',\n",
       "       'device'],\n",
       "      dtype='object')"
      ]
     },
     "execution_count": 10,
     "metadata": {},
     "output_type": "execute_result"
    }
   ],
   "source": [
    "# show all columns\n",
    "df.columns"
   ]
  },
  {
   "cell_type": "code",
   "execution_count": 11,
   "id": "3febf28b",
   "metadata": {},
   "outputs": [],
   "source": [
    "# save pandas df as a csv file\n",
    "df.to_csv('20220610_tweets.csv.gz', index=False, encoding='utf_8_sig',compression='gzip')"
   ]
  },
  {
   "cell_type": "code",
   "execution_count": 3,
   "id": "0be0d373",
   "metadata": {},
   "outputs": [],
   "source": [
    "# read pandas df as a csv file\n",
    "df = pd.read_csv('20220610_tweets.csv.gz', encoding='utf_8_sig',compression='gzip',\n",
    "                 lineterminator='\\n', low_memory=False)"
   ]
  },
  {
   "cell_type": "markdown",
   "id": "78aaa5cf",
   "metadata": {},
   "source": [
    "## Dataset Exploration\n",
    "\n",
    "We have 3,562,251 tweets collected over a period of 24h. This dataset contains all of tweets that were made in Japan and in Japanese language from 2022-06-10 01:59:28 to 2022-06-11 01:58:51 Japan time (Friday 2 AM - Saturday 2 AM)."
   ]
  },
  {
   "cell_type": "code",
   "execution_count": 4,
   "id": "e707bb6f",
   "metadata": {},
   "outputs": [
    {
     "name": "stdout",
     "output_type": "stream",
     "text": [
      "<class 'pandas.core.frame.DataFrame'>\n",
      "RangeIndex: 3562251 entries, 0 to 3562250\n",
      "Data columns (total 23 columns):\n",
      " #   Column              Dtype \n",
      "---  ------              ----- \n",
      " 0   tweet_date          object\n",
      " 1   user_id             int64 \n",
      " 2   likes               int64 \n",
      " 3   replies             int64 \n",
      " 4   retweets            int64 \n",
      " 5   quoted_count        int64 \n",
      " 6   contains_media      object\n",
      " 7   contains_links      object\n",
      " 8   conversation_id     int64 \n",
      " 9   hashtags            object\n",
      " 10  cashtags            object\n",
      " 11  tweet_content       object\n",
      " 12  account_date        object\n",
      " 13  user_verified       bool  \n",
      " 14  followers           int64 \n",
      " 15  following           int64 \n",
      " 16  total_tweets        int64 \n",
      " 17  total_likes         int64 \n",
      " 18  total_media_tweets  int64 \n",
      " 19  protected           bool  \n",
      " 20  user_location       object\n",
      " 21  language            object\n",
      " 22  device              object\n",
      "dtypes: bool(2), int64(11), object(10)\n",
      "memory usage: 577.5+ MB\n"
     ]
    }
   ],
   "source": [
    "df.info()"
   ]
  },
  {
   "cell_type": "code",
   "execution_count": 5,
   "id": "5ad37352",
   "metadata": {},
   "outputs": [
    {
     "data": {
      "text/plain": [
       "True"
      ]
     },
     "execution_count": 5,
     "metadata": {},
     "output_type": "execute_result"
    }
   ],
   "source": [
    "# check if there are any NaNs\n",
    "df.isnull().values.any()"
   ]
  },
  {
   "cell_type": "code",
   "execution_count": 6,
   "id": "4b4cda4e",
   "metadata": {},
   "outputs": [
    {
     "data": {
      "text/plain": [
       "[(0, 'tweet_date'),\n",
       " (0, 'user_id'),\n",
       " (0, 'likes'),\n",
       " (0, 'replies'),\n",
       " (0, 'retweets'),\n",
       " (0, 'quoted_count'),\n",
       " (3057100, 'contains_media'),\n",
       " (2964869, 'contains_links'),\n",
       " (0, 'conversation_id'),\n",
       " (3120751, 'hashtags'),\n",
       " (3561737, 'cashtags'),\n",
       " (0, 'tweet_content'),\n",
       " (0, 'account_date'),\n",
       " (0, 'user_verified'),\n",
       " (0, 'followers'),\n",
       " (0, 'following'),\n",
       " (0, 'total_tweets'),\n",
       " (0, 'total_likes'),\n",
       " (0, 'total_media_tweets'),\n",
       " (0, 'protected'),\n",
       " (49203, 'user_location'),\n",
       " (0, 'language'),\n",
       " (0, 'device')]"
      ]
     },
     "execution_count": 6,
     "metadata": {},
     "output_type": "execute_result"
    }
   ],
   "source": [
    "# lets see how many NaNs we have and where they are\n",
    "[(df[x].isnull().sum(),x) for x in df.columns.tolist()]"
   ]
  },
  {
   "cell_type": "code",
   "execution_count": 7,
   "id": "ef35e65c",
   "metadata": {},
   "outputs": [
    {
     "data": {
      "text/html": [
       "<div>\n",
       "<style scoped>\n",
       "    .dataframe tbody tr th:only-of-type {\n",
       "        vertical-align: middle;\n",
       "    }\n",
       "\n",
       "    .dataframe tbody tr th {\n",
       "        vertical-align: top;\n",
       "    }\n",
       "\n",
       "    .dataframe thead th {\n",
       "        text-align: right;\n",
       "    }\n",
       "</style>\n",
       "<table border=\"1\" class=\"dataframe\">\n",
       "  <thead>\n",
       "    <tr style=\"text-align: right;\">\n",
       "      <th></th>\n",
       "      <th>user_id</th>\n",
       "      <th>likes</th>\n",
       "      <th>replies</th>\n",
       "      <th>retweets</th>\n",
       "      <th>quoted_count</th>\n",
       "      <th>conversation_id</th>\n",
       "      <th>followers</th>\n",
       "      <th>following</th>\n",
       "      <th>total_tweets</th>\n",
       "      <th>total_likes</th>\n",
       "      <th>total_media_tweets</th>\n",
       "    </tr>\n",
       "  </thead>\n",
       "  <tbody>\n",
       "    <tr>\n",
       "      <th>count</th>\n",
       "      <td>3.562251e+06</td>\n",
       "      <td>3.562251e+06</td>\n",
       "      <td>3.562251e+06</td>\n",
       "      <td>3.562251e+06</td>\n",
       "      <td>3.562251e+06</td>\n",
       "      <td>3.562251e+06</td>\n",
       "      <td>3.562251e+06</td>\n",
       "      <td>3.562251e+06</td>\n",
       "      <td>3.562251e+06</td>\n",
       "      <td>3.562251e+06</td>\n",
       "      <td>3.562251e+06</td>\n",
       "    </tr>\n",
       "    <tr>\n",
       "      <th>mean</th>\n",
       "      <td>6.685163e+17</td>\n",
       "      <td>6.738321e+00</td>\n",
       "      <td>4.423408e-01</td>\n",
       "      <td>9.309246e-01</td>\n",
       "      <td>6.330267e-02</td>\n",
       "      <td>1.534051e+18</td>\n",
       "      <td>4.642689e+03</td>\n",
       "      <td>1.154819e+03</td>\n",
       "      <td>5.150385e+04</td>\n",
       "      <td>4.027336e+04</td>\n",
       "      <td>8.289167e+03</td>\n",
       "    </tr>\n",
       "    <tr>\n",
       "      <th>std</th>\n",
       "      <td>6.022808e+17</td>\n",
       "      <td>2.648978e+02</td>\n",
       "      <td>3.231444e+00</td>\n",
       "      <td>5.727742e+01</td>\n",
       "      <td>4.820024e+00</td>\n",
       "      <td>2.796990e+16</td>\n",
       "      <td>3.458335e+04</td>\n",
       "      <td>6.392360e+03</td>\n",
       "      <td>1.722654e+05</td>\n",
       "      <td>8.084732e+04</td>\n",
       "      <td>6.571572e+04</td>\n",
       "    </tr>\n",
       "    <tr>\n",
       "      <th>min</th>\n",
       "      <td>1.060200e+04</td>\n",
       "      <td>0.000000e+00</td>\n",
       "      <td>0.000000e+00</td>\n",
       "      <td>0.000000e+00</td>\n",
       "      <td>0.000000e+00</td>\n",
       "      <td>1.353664e+10</td>\n",
       "      <td>0.000000e+00</td>\n",
       "      <td>0.000000e+00</td>\n",
       "      <td>1.000000e+00</td>\n",
       "      <td>0.000000e+00</td>\n",
       "      <td>0.000000e+00</td>\n",
       "    </tr>\n",
       "    <tr>\n",
       "      <th>25%</th>\n",
       "      <td>8.409188e+08</td>\n",
       "      <td>0.000000e+00</td>\n",
       "      <td>0.000000e+00</td>\n",
       "      <td>0.000000e+00</td>\n",
       "      <td>0.000000e+00</td>\n",
       "      <td>1.535047e+18</td>\n",
       "      <td>1.250000e+02</td>\n",
       "      <td>1.540000e+02</td>\n",
       "      <td>3.095000e+03</td>\n",
       "      <td>2.012000e+03</td>\n",
       "      <td>1.180000e+02</td>\n",
       "    </tr>\n",
       "    <tr>\n",
       "      <th>50%</th>\n",
       "      <td>8.409148e+17</td>\n",
       "      <td>1.000000e+00</td>\n",
       "      <td>0.000000e+00</td>\n",
       "      <td>0.000000e+00</td>\n",
       "      <td>0.000000e+00</td>\n",
       "      <td>1.535149e+18</td>\n",
       "      <td>3.680000e+02</td>\n",
       "      <td>3.990000e+02</td>\n",
       "      <td>1.237900e+04</td>\n",
       "      <td>1.173600e+04</td>\n",
       "      <td>6.240000e+02</td>\n",
       "    </tr>\n",
       "    <tr>\n",
       "      <th>75%</th>\n",
       "      <td>1.237792e+18</td>\n",
       "      <td>2.000000e+00</td>\n",
       "      <td>1.000000e+00</td>\n",
       "      <td>0.000000e+00</td>\n",
       "      <td>0.000000e+00</td>\n",
       "      <td>1.535221e+18</td>\n",
       "      <td>1.044000e+03</td>\n",
       "      <td>9.660000e+02</td>\n",
       "      <td>4.157400e+04</td>\n",
       "      <td>4.179500e+04</td>\n",
       "      <td>2.263000e+03</td>\n",
       "    </tr>\n",
       "    <tr>\n",
       "      <th>max</th>\n",
       "      <td>1.535299e+18</td>\n",
       "      <td>2.054620e+05</td>\n",
       "      <td>3.233000e+03</td>\n",
       "      <td>3.432600e+04</td>\n",
       "      <td>4.739000e+03</td>\n",
       "      <td>1.535306e+18</td>\n",
       "      <td>6.224069e+06</td>\n",
       "      <td>8.592120e+05</td>\n",
       "      <td>9.641305e+06</td>\n",
       "      <td>2.047647e+06</td>\n",
       "      <td>9.577678e+06</td>\n",
       "    </tr>\n",
       "  </tbody>\n",
       "</table>\n",
       "</div>"
      ],
      "text/plain": [
       "            user_id         likes       replies      retweets  quoted_count  \\\n",
       "count  3.562251e+06  3.562251e+06  3.562251e+06  3.562251e+06  3.562251e+06   \n",
       "mean   6.685163e+17  6.738321e+00  4.423408e-01  9.309246e-01  6.330267e-02   \n",
       "std    6.022808e+17  2.648978e+02  3.231444e+00  5.727742e+01  4.820024e+00   \n",
       "min    1.060200e+04  0.000000e+00  0.000000e+00  0.000000e+00  0.000000e+00   \n",
       "25%    8.409188e+08  0.000000e+00  0.000000e+00  0.000000e+00  0.000000e+00   \n",
       "50%    8.409148e+17  1.000000e+00  0.000000e+00  0.000000e+00  0.000000e+00   \n",
       "75%    1.237792e+18  2.000000e+00  1.000000e+00  0.000000e+00  0.000000e+00   \n",
       "max    1.535299e+18  2.054620e+05  3.233000e+03  3.432600e+04  4.739000e+03   \n",
       "\n",
       "       conversation_id     followers     following  total_tweets  \\\n",
       "count     3.562251e+06  3.562251e+06  3.562251e+06  3.562251e+06   \n",
       "mean      1.534051e+18  4.642689e+03  1.154819e+03  5.150385e+04   \n",
       "std       2.796990e+16  3.458335e+04  6.392360e+03  1.722654e+05   \n",
       "min       1.353664e+10  0.000000e+00  0.000000e+00  1.000000e+00   \n",
       "25%       1.535047e+18  1.250000e+02  1.540000e+02  3.095000e+03   \n",
       "50%       1.535149e+18  3.680000e+02  3.990000e+02  1.237900e+04   \n",
       "75%       1.535221e+18  1.044000e+03  9.660000e+02  4.157400e+04   \n",
       "max       1.535306e+18  6.224069e+06  8.592120e+05  9.641305e+06   \n",
       "\n",
       "        total_likes  total_media_tweets  \n",
       "count  3.562251e+06        3.562251e+06  \n",
       "mean   4.027336e+04        8.289167e+03  \n",
       "std    8.084732e+04        6.571572e+04  \n",
       "min    0.000000e+00        0.000000e+00  \n",
       "25%    2.012000e+03        1.180000e+02  \n",
       "50%    1.173600e+04        6.240000e+02  \n",
       "75%    4.179500e+04        2.263000e+03  \n",
       "max    2.047647e+06        9.577678e+06  "
      ]
     },
     "execution_count": 7,
     "metadata": {},
     "output_type": "execute_result"
    }
   ],
   "source": [
    "df.describe()"
   ]
  },
  {
   "cell_type": "markdown",
   "id": "7b71c3a2",
   "metadata": {},
   "source": [
    "It looks like the **contains_media** column has either NaN values or a link to the media that was used."
   ]
  },
  {
   "cell_type": "code",
   "execution_count": 8,
   "id": "bf4e5222",
   "metadata": {},
   "outputs": [
    {
     "data": {
      "text/plain": [
       "4     [Photo(previewUrl='https://pbs.twimg.com/media...\n",
       "10    [Photo(previewUrl='https://pbs.twimg.com/media...\n",
       "24    [Photo(previewUrl='https://pbs.twimg.com/media...\n",
       "Name: contains_media, dtype: object"
      ]
     },
     "execution_count": 8,
     "metadata": {},
     "output_type": "execute_result"
    }
   ],
   "source": [
    "df.loc[~df['contains_media'].isna() == True]['contains_media'].head(3)"
   ]
  },
  {
   "cell_type": "markdown",
   "id": "eb60be57",
   "metadata": {},
   "source": [
    "Situation is similar for the **contains_links** column. Values are either links or NaNs."
   ]
  },
  {
   "cell_type": "code",
   "execution_count": 9,
   "id": "9fca05d0",
   "metadata": {},
   "outputs": [
    {
     "data": {
      "text/plain": [
       "13    ['https://twitter.com/ninfiatexetexe1/status/1...\n",
       "25    ['https://camp-fire.jp/projects/view/585316?ut...\n",
       "34    ['https://twitter.com/i/spaces/1eaKbNQkryYKX?s...\n",
       "Name: contains_links, dtype: object"
      ]
     },
     "execution_count": 9,
     "metadata": {},
     "output_type": "execute_result"
    }
   ],
   "source": [
    "df.loc[~df['contains_links'].isna() == True]['contains_links'].head(3)"
   ]
  },
  {
   "cell_type": "markdown",
   "id": "a114373d",
   "metadata": {},
   "source": [
    "For hashtags and cashtags, we see that if they exist they are contained within a list and that the list can contain multiple hashtags."
   ]
  },
  {
   "cell_type": "code",
   "execution_count": 10,
   "id": "d16964f0",
   "metadata": {},
   "outputs": [
    {
     "data": {
      "text/plain": [
       "1                ['スパイファミリー']\n",
       "19                 ['スマブラSP']\n",
       "25    ['クラウドファンディングCAMPFIRE']\n",
       "26                ['シティダンク2']\n",
       "32         ['よーよーよー', '由良ゆら']\n",
       "Name: hashtags, dtype: object"
      ]
     },
     "execution_count": 10,
     "metadata": {},
     "output_type": "execute_result"
    }
   ],
   "source": [
    "df.loc[~df['hashtags'].isna() == True]['hashtags'].head()"
   ]
  },
  {
   "cell_type": "code",
   "execution_count": 11,
   "id": "52ef845c",
   "metadata": {},
   "outputs": [
    {
     "data": {
      "text/plain": [
       "5448              ['ETH']\n",
       "9677            ['Fishe']\n",
       "9953             ['BIRD']\n",
       "15963             ['CVX']\n",
       "19056             ['NXD']\n",
       "19086             ['BTC']\n",
       "19878             ['ETH']\n",
       "20211    ['WLKN', 'WLKN']\n",
       "20617             ['CVX']\n",
       "23788      ['META', 'FB']\n",
       "Name: cashtags, dtype: object"
      ]
     },
     "execution_count": 11,
     "metadata": {},
     "output_type": "execute_result"
    }
   ],
   "source": [
    "df.loc[~df['cashtags'].isna() == True]['cashtags'].head(10)"
   ]
  },
  {
   "cell_type": "markdown",
   "id": "9d989d91",
   "metadata": {},
   "source": [
    "Below we see that the earliest and latest tweet date give us 24 hours of data (minus 37 seconds)"
   ]
  },
  {
   "cell_type": "code",
   "execution_count": 12,
   "id": "db919ef7",
   "metadata": {},
   "outputs": [
    {
     "name": "stdout",
     "output_type": "stream",
     "text": [
      "min date: 2022-06-10 01:59:28+09:00 and max date: 2022-06-11 01:58:51+09:00\n"
     ]
    }
   ],
   "source": [
    "#let's convert the tweet and account created columns to a datetime object and change timezone from UTC to Japan\n",
    "\n",
    "df['tweet_date'] = df['tweet_date'].astype('datetime64[ns]').dt.tz_localize('UTC').dt.tz_convert('Japan')\n",
    "df['account_date'] = df['account_date'].astype('datetime64[ns]').dt.tz_localize('UTC').dt.tz_convert('Japan')\n",
    "\n",
    "print(f\"min date: {df['tweet_date'].min()} and max date: {df['tweet_date'].max()}\")\n"
   ]
  },
  {
   "cell_type": "markdown",
   "id": "061efadc",
   "metadata": {},
   "source": [
    "The below output shows us that the columns were changed correctly."
   ]
  },
  {
   "cell_type": "code",
   "execution_count": 13,
   "id": "50fcca6e",
   "metadata": {},
   "outputs": [
    {
     "name": "stdout",
     "output_type": "stream",
     "text": [
      "<class 'pandas.core.frame.DataFrame'>\n",
      "RangeIndex: 3562251 entries, 0 to 3562250\n",
      "Data columns (total 2 columns):\n",
      " #   Column        Dtype                \n",
      "---  ------        -----                \n",
      " 0   tweet_date    datetime64[ns, Japan]\n",
      " 1   account_date  datetime64[ns, Japan]\n",
      "dtypes: datetime64[ns, Japan](2)\n",
      "memory usage: 54.4 MB\n"
     ]
    }
   ],
   "source": [
    "df[['tweet_date','account_date']].info()"
   ]
  },
  {
   "cell_type": "markdown",
   "id": "9250a09f",
   "metadata": {},
   "source": [
    "## Dataset Cleaning\n",
    "\n",
    "Let's change media and links columns to contain either 1 when links or media are present and 0 when they are not present."
   ]
  },
  {
   "cell_type": "code",
   "execution_count": 14,
   "id": "ae5b3057",
   "metadata": {},
   "outputs": [],
   "source": [
    "# change all NaN values in columns media and links to 0\n",
    "df[['contains_media','contains_links']] = df[['contains_media','contains_links']].fillna(0)\n",
    "\n",
    "# change all values that are not 0 to 1\n",
    "df.loc[df['contains_media'] != 0,'contains_media'] = 1\n",
    "df.loc[df['contains_links'] != 0,'contains_links'] = 1"
   ]
  },
  {
   "cell_type": "code",
   "execution_count": 15,
   "id": "40a00cd1",
   "metadata": {},
   "outputs": [
    {
     "data": {
      "text/plain": [
       "0    3057100\n",
       "1     505151\n",
       "Name: contains_media, dtype: int64"
      ]
     },
     "execution_count": 15,
     "metadata": {},
     "output_type": "execute_result"
    }
   ],
   "source": [
    "df['contains_media'].value_counts()"
   ]
  },
  {
   "cell_type": "code",
   "execution_count": 16,
   "id": "61d9b956",
   "metadata": {},
   "outputs": [
    {
     "data": {
      "text/plain": [
       "0    2964869\n",
       "1     597382\n",
       "Name: contains_links, dtype: int64"
      ]
     },
     "execution_count": 16,
     "metadata": {},
     "output_type": "execute_result"
    }
   ],
   "source": [
    "df['contains_links'].value_counts()"
   ]
  },
  {
   "cell_type": "markdown",
   "id": "285b3098",
   "metadata": {},
   "source": [
    "Number of 0's is consistent with the number of NaNs we checked earlier. Let's change NaNs in cashtags and hashtags columns to 0's."
   ]
  },
  {
   "cell_type": "code",
   "execution_count": 17,
   "id": "aae59304",
   "metadata": {},
   "outputs": [],
   "source": [
    "df[['hashtags','cashtags']] = df[['hashtags','cashtags']].fillna(0)"
   ]
  },
  {
   "cell_type": "code",
   "execution_count": 18,
   "id": "c99d79d7",
   "metadata": {},
   "outputs": [
    {
     "data": {
      "text/plain": [
       "0                                                                                  3120751\n",
       "['質問箱', '匿名質問募集中']                                                                   28240\n",
       "['Yahooニュース']                                                                         5649\n",
       "['Peing', '質問箱']                                                                      4444\n",
       "['ミクダヨーサンオミクジ']                                                                       3623\n",
       "                                                                                    ...   \n",
       "['Canon30d', 'Canon60d', 'OLYMPUSee2', '一眼かめら', 'ふいるむかめら', 'かめらこーなー', 'カメラ初心者']          1\n",
       "['いまそら', 'イマソラ', '新潟市内の天気']                                                              1\n",
       "['べびきん']                                                                                 1\n",
       "['台東']                                                                                   1\n",
       "['筋トレ', 'ボディメイク']                                                                        1\n",
       "Name: hashtags, Length: 168551, dtype: int64"
      ]
     },
     "execution_count": 18,
     "metadata": {},
     "output_type": "execute_result"
    }
   ],
   "source": [
    "df['hashtags'].value_counts()"
   ]
  },
  {
   "cell_type": "code",
   "execution_count": 19,
   "id": "d990887d",
   "metadata": {},
   "outputs": [
    {
     "data": {
      "text/plain": [
       "0                                                3561737\n",
       "['TSLA']                                              25\n",
       "['BTCJPY']                                            24\n",
       "['HIRSHI']                                            20\n",
       "['DOCU']                                              15\n",
       "                                                  ...   \n",
       "['NFLX', 'RBLX', 'GDRX', 'EBAY']                       1\n",
       "['ADA']                                                1\n",
       "['Fishe', 'Fishe', 'Fishe', 'Fishe', 'Fishe']          1\n",
       "['MUSHI', 'SHUZO']                                     1\n",
       "['PINU']                                               1\n",
       "Name: cashtags, Length: 266, dtype: int64"
      ]
     },
     "execution_count": 19,
     "metadata": {},
     "output_type": "execute_result"
    }
   ],
   "source": [
    "df['cashtags'].value_counts()"
   ]
  },
  {
   "cell_type": "markdown",
   "id": "6502bb58",
   "metadata": {},
   "source": [
    "## Dataset Analysis\n",
    "\n",
    "Frequency distribution of tweets by hour of day. Let's keep in mind that tweets between 00:00 and 02:00 are from Saturday."
   ]
  },
  {
   "cell_type": "code",
   "execution_count": 20,
   "id": "c44c15b3",
   "metadata": {},
   "outputs": [
    {
     "data": {
      "image/png": "[encoded data removed]",
      "text/plain": [
       "<Figure size 432x288 with 1 Axes>"
      ]
     },
     "metadata": {
      "needs_background": "light"
     },
     "output_type": "display_data"
    }
   ],
   "source": [
    "hour_list = [t.hour for t in df['tweet_date'].tolist()]\n",
    "numbers = [x for x in range(0,24)]\n",
    "labels = map(lambda x: str(x), numbers)\n",
    "plt.xticks(numbers, labels)\n",
    "plt.xlim(0,24)\n",
    "plt.hist(hour_list)\n",
    "plt.show()"
   ]
  },
  {
   "cell_type": "markdown",
   "id": "34b6ccc8",
   "metadata": {},
   "source": [
    "The result is a bit surprising. I was expecting the tweet volume to increase more during lunch and then drop until 17:00 or 18:00 when people finish work. However, after the increase in volume at 12:00, the tweet counts per hour have been steadily increasing until 23:00. After that we see a sharp drop in volume of tweets."
   ]
  },
  {
   "cell_type": "code",
   "execution_count": 21,
   "id": "bcbe4c3e",
   "metadata": {},
   "outputs": [
    {
     "name": "stdout",
     "output_type": "stream",
     "text": [
      " % of tweets with no likes:  44.291629085092545 \n",
      " % of tweets witat least 1 like:  29.952100511726997 \n",
      " % of tweets witat least 2 likes:  7.618497405151967 \n",
      " % of tweets witat least 3 likes:  3.688594655458024 \n",
      " % of tweets witat least 4 likes:  2.34337782486411 \n",
      " % of tweets with 5 or more likes:  12.105800517706362 \n",
      " mean likes:  6.738321078441693 \n",
      " median likes:  1.0 \n",
      " mode likes:  0    0\n",
      "Name: likes, dtype: int64\n"
     ]
    }
   ],
   "source": [
    "print(' % of tweets with no likes: ', df[df['likes'] == 0]['likes'].count()/df.shape[0]*100,'\\n',\n",
    "      '% of tweets with at least 1 like: ', df[df['likes'] == 1]['likes'].count()/df.shape[0]*100,'\\n',\n",
    "      '% of tweets with at least 2 likes: ', df[df['likes'] == 2]['likes'].count()/df.shape[0]*100,'\\n',\n",
    "      '% of tweets with at least 3 likes: ', df[df['likes'] == 3]['likes'].count()/df.shape[0]*100,'\\n',\n",
    "      '% of tweets with at least 4 likes: ', df[df['likes'] == 4]['likes'].count()/df.shape[0]*100,'\\n',\n",
    "      '% of tweets with 5 or more likes: ', df[df['likes'] >= 5]['likes'].count()/df.shape[0]*100,'\\n',\n",
    "     'mean likes: ', df['likes'].mean(),'\\n',\n",
    "     'median likes: ', df['likes'].median(),'\\n',\n",
    "     'mode likes: ', df['likes'].mode())\n"
   ]
  },
  {
   "cell_type": "markdown",
   "id": "a809b3be",
   "metadata": {},
   "source": [
    "From the above data we see that by far the most common number of likes is 0. With the mean laying to the right of the median, it also tells us that the distribution is right skewed.\n",
    "\n",
    "Let's see if comments at a certain time of day are more likely to get more likes."
   ]
  },
  {
   "cell_type": "code",
   "execution_count": 22,
   "id": "3511c2af",
   "metadata": {},
   "outputs": [
    {
     "data": {
      "text/html": [
       "<div>\n",
       "<style scoped>\n",
       "    .dataframe tbody tr th:only-of-type {\n",
       "        vertical-align: middle;\n",
       "    }\n",
       "\n",
       "    .dataframe tbody tr th {\n",
       "        vertical-align: top;\n",
       "    }\n",
       "\n",
       "    .dataframe thead th {\n",
       "        text-align: right;\n",
       "    }\n",
       "</style>\n",
       "<table border=\"1\" class=\"dataframe\">\n",
       "  <thead>\n",
       "    <tr style=\"text-align: right;\">\n",
       "      <th></th>\n",
       "      <th>tweet_date</th>\n",
       "      <th>user_id</th>\n",
       "      <th>likes</th>\n",
       "      <th>replies</th>\n",
       "      <th>retweets</th>\n",
       "      <th>quoted_count</th>\n",
       "      <th>contains_media</th>\n",
       "      <th>contains_links</th>\n",
       "      <th>conversation_id</th>\n",
       "      <th>hashtags</th>\n",
       "      <th>...</th>\n",
       "      <th>followers</th>\n",
       "      <th>following</th>\n",
       "      <th>total_tweets</th>\n",
       "      <th>total_likes</th>\n",
       "      <th>total_media_tweets</th>\n",
       "      <th>protected</th>\n",
       "      <th>user_location</th>\n",
       "      <th>language</th>\n",
       "      <th>device</th>\n",
       "      <th>hour</th>\n",
       "    </tr>\n",
       "  </thead>\n",
       "  <tbody>\n",
       "    <tr>\n",
       "      <th>0</th>\n",
       "      <td>2022-06-11 01:58:51+09:00</td>\n",
       "      <td>173143804</td>\n",
       "      <td>0</td>\n",
       "      <td>0</td>\n",
       "      <td>0</td>\n",
       "      <td>0</td>\n",
       "      <td>0</td>\n",
       "      <td>0</td>\n",
       "      <td>1535305506218450944</td>\n",
       "      <td>0</td>\n",
       "      <td>...</td>\n",
       "      <td>734</td>\n",
       "      <td>384</td>\n",
       "      <td>76115</td>\n",
       "      <td>23808</td>\n",
       "      <td>5661</td>\n",
       "      <td>False</td>\n",
       "      <td>福岡県</td>\n",
       "      <td>ja</td>\n",
       "      <td>Twitter for iPhone</td>\n",
       "      <td>01</td>\n",
       "    </tr>\n",
       "    <tr>\n",
       "      <th>1</th>\n",
       "      <td>2022-06-11 01:58:51+09:00</td>\n",
       "      <td>146142843</td>\n",
       "      <td>0</td>\n",
       "      <td>0</td>\n",
       "      <td>0</td>\n",
       "      <td>0</td>\n",
       "      <td>0</td>\n",
       "      <td>0</td>\n",
       "      <td>1535305505954234368</td>\n",
       "      <td>['スパイファミリー']</td>\n",
       "      <td>...</td>\n",
       "      <td>409</td>\n",
       "      <td>221</td>\n",
       "      <td>149670</td>\n",
       "      <td>9204</td>\n",
       "      <td>3635</td>\n",
       "      <td>False</td>\n",
       "      <td>こおりやま</td>\n",
       "      <td>ja</td>\n",
       "      <td>Twitter for iPhone</td>\n",
       "      <td>01</td>\n",
       "    </tr>\n",
       "    <tr>\n",
       "      <th>2</th>\n",
       "      <td>2022-06-11 01:58:51+09:00</td>\n",
       "      <td>2884471884</td>\n",
       "      <td>0</td>\n",
       "      <td>1</td>\n",
       "      <td>1</td>\n",
       "      <td>0</td>\n",
       "      <td>0</td>\n",
       "      <td>0</td>\n",
       "      <td>1535302493777047553</td>\n",
       "      <td>0</td>\n",
       "      <td>...</td>\n",
       "      <td>198</td>\n",
       "      <td>436</td>\n",
       "      <td>19873</td>\n",
       "      <td>1627</td>\n",
       "      <td>328</td>\n",
       "      <td>False</td>\n",
       "      <td>日本 東京</td>\n",
       "      <td>ja</td>\n",
       "      <td>Twitter for iPhone</td>\n",
       "      <td>01</td>\n",
       "    </tr>\n",
       "    <tr>\n",
       "      <th>3</th>\n",
       "      <td>2022-06-11 01:58:51+09:00</td>\n",
       "      <td>934377494181961728</td>\n",
       "      <td>0</td>\n",
       "      <td>1</td>\n",
       "      <td>0</td>\n",
       "      <td>0</td>\n",
       "      <td>0</td>\n",
       "      <td>0</td>\n",
       "      <td>1535304719106977793</td>\n",
       "      <td>0</td>\n",
       "      <td>...</td>\n",
       "      <td>95</td>\n",
       "      <td>218</td>\n",
       "      <td>21021</td>\n",
       "      <td>12111</td>\n",
       "      <td>4639</td>\n",
       "      <td>False</td>\n",
       "      <td>愛知県</td>\n",
       "      <td>ja</td>\n",
       "      <td>Twitter for iPhone</td>\n",
       "      <td>01</td>\n",
       "    </tr>\n",
       "    <tr>\n",
       "      <th>4</th>\n",
       "      <td>2022-06-11 01:58:51+09:00</td>\n",
       "      <td>988093376539967489</td>\n",
       "      <td>2</td>\n",
       "      <td>0</td>\n",
       "      <td>0</td>\n",
       "      <td>0</td>\n",
       "      <td>1</td>\n",
       "      <td>0</td>\n",
       "      <td>1535305505174073344</td>\n",
       "      <td>0</td>\n",
       "      <td>...</td>\n",
       "      <td>34</td>\n",
       "      <td>83</td>\n",
       "      <td>61</td>\n",
       "      <td>36</td>\n",
       "      <td>53</td>\n",
       "      <td>False</td>\n",
       "      <td>青島</td>\n",
       "      <td>ja</td>\n",
       "      <td>Twitter for iPhone</td>\n",
       "      <td>01</td>\n",
       "    </tr>\n",
       "  </tbody>\n",
       "</table>\n",
       "<p>5 rows × 24 columns</p>\n",
       "</div>"
      ],
      "text/plain": [
       "                 tweet_date             user_id  likes  replies  retweets  \\\n",
       "0 2022-06-11 01:58:51+09:00           173143804      0        0         0   \n",
       "1 2022-06-11 01:58:51+09:00           146142843      0        0         0   \n",
       "2 2022-06-11 01:58:51+09:00          2884471884      0        1         1   \n",
       "3 2022-06-11 01:58:51+09:00  934377494181961728      0        1         0   \n",
       "4 2022-06-11 01:58:51+09:00  988093376539967489      2        0         0   \n",
       "\n",
       "   quoted_count contains_media contains_links      conversation_id  \\\n",
       "0             0              0              0  1535305506218450944   \n",
       "1             0              0              0  1535305505954234368   \n",
       "2             0              0              0  1535302493777047553   \n",
       "3             0              0              0  1535304719106977793   \n",
       "4             0              1              0  1535305505174073344   \n",
       "\n",
       "       hashtags  ... followers following total_tweets  total_likes  \\\n",
       "0             0  ...       734       384        76115        23808   \n",
       "1  ['スパイファミリー']  ...       409       221       149670         9204   \n",
       "2             0  ...       198       436        19873         1627   \n",
       "3             0  ...        95       218        21021        12111   \n",
       "4             0  ...        34        83           61           36   \n",
       "\n",
       "   total_media_tweets  protected  user_location  language              device  \\\n",
       "0                5661      False            福岡県        ja  Twitter for iPhone   \n",
       "1                3635      False          こおりやま        ja  Twitter for iPhone   \n",
       "2                 328      False          日本 東京        ja  Twitter for iPhone   \n",
       "3                4639      False            愛知県        ja  Twitter for iPhone   \n",
       "4                  53      False             青島        ja  Twitter for iPhone   \n",
       "\n",
       "   hour  \n",
       "0    01  \n",
       "1    01  \n",
       "2    01  \n",
       "3    01  \n",
       "4    01  \n",
       "\n",
       "[5 rows x 24 columns]"
      ]
     },
     "execution_count": 22,
     "metadata": {},
     "output_type": "execute_result"
    }
   ],
   "source": [
    "df['hour'] = pd.to_datetime(df['tweet_date']).dt.strftime('%H')\n",
    "df.head()"
   ]
  },
  {
   "cell_type": "code",
   "execution_count": 23,
   "id": "497c3df8",
   "metadata": {},
   "outputs": [
    {
     "data": {
      "text/html": [
       "<div>\n",
       "<style scoped>\n",
       "    .dataframe tbody tr th:only-of-type {\n",
       "        vertical-align: middle;\n",
       "    }\n",
       "\n",
       "    .dataframe tbody tr th {\n",
       "        vertical-align: top;\n",
       "    }\n",
       "\n",
       "    .dataframe thead th {\n",
       "        text-align: right;\n",
       "    }\n",
       "</style>\n",
       "<table border=\"1\" class=\"dataframe\">\n",
       "  <thead>\n",
       "    <tr style=\"text-align: right;\">\n",
       "      <th></th>\n",
       "      <th>hour</th>\n",
       "      <th>likes</th>\n",
       "    </tr>\n",
       "  </thead>\n",
       "  <tbody>\n",
       "    <tr>\n",
       "      <th>0</th>\n",
       "      <td>00</td>\n",
       "      <td>5.029041</td>\n",
       "    </tr>\n",
       "    <tr>\n",
       "      <th>1</th>\n",
       "      <td>01</td>\n",
       "      <td>4.409157</td>\n",
       "    </tr>\n",
       "    <tr>\n",
       "      <th>2</th>\n",
       "      <td>02</td>\n",
       "      <td>3.697450</td>\n",
       "    </tr>\n",
       "    <tr>\n",
       "      <th>3</th>\n",
       "      <td>03</td>\n",
       "      <td>4.370170</td>\n",
       "    </tr>\n",
       "    <tr>\n",
       "      <th>4</th>\n",
       "      <td>04</td>\n",
       "      <td>12.168180</td>\n",
       "    </tr>\n",
       "  </tbody>\n",
       "</table>\n",
       "</div>"
      ],
      "text/plain": [
       "  hour      likes\n",
       "0   00   5.029041\n",
       "1   01   4.409157\n",
       "2   02   3.697450\n",
       "3   03   4.370170\n",
       "4   04  12.168180"
      ]
     },
     "execution_count": 23,
     "metadata": {},
     "output_type": "execute_result"
    }
   ],
   "source": [
    "mean_likes = df[['hour','likes']].groupby('hour',as_index=False).mean()\n",
    "mean_likes.head()"
   ]
  },
  {
   "cell_type": "code",
   "execution_count": 24,
   "id": "4f0984b2",
   "metadata": {},
   "outputs": [
    {
     "data": {
      "image/png": "[encoded data removed]",
      "text/plain": [
       "<Figure size 720x360 with 1 Axes>"
      ]
     },
     "metadata": {
      "needs_background": "light"
     },
     "output_type": "display_data"
    }
   ],
   "source": [
    "# changing graph size\n",
    "plt.figure(figsize=(10,5))\n",
    "\n",
    "# generating graph\n",
    "graph = sns.barplot(x='hour',y='likes',data=mean_likes, color='royalblue')\n",
    "\n",
    "# adding a horizontal line representing the overall mean\n",
    "graph.axhline(df['likes'].mean(), color='red',label='Overall Mean')\n",
    "\n",
    "# editing labels\n",
    "graph.set(title='Mean Likes by Hour of Day')\n",
    "graph.set_xlabel('Hour of Day')\n",
    "graph.set_ylabel('Mean Likes')\n",
    "\n",
    "plt.legend()\n",
    "plt.show()"
   ]
  },
  {
   "cell_type": "markdown",
   "id": "bc0dddfc",
   "metadata": {},
   "source": [
    "From the above data it looks like if someone wanted to maximize their chance of getting the most likes from their tweet, they should post it between 04:00-08:00 or 18:00-21:00.\n",
    "\n",
    "Let's see if account age contributes to different number of likes."
   ]
  },
  {
   "cell_type": "code",
   "execution_count": 25,
   "id": "fe6a217c",
   "metadata": {},
   "outputs": [
    {
     "data": {
      "image/png": "[encoded data removed]",
      "text/plain": [
       "<Figure size 720x360 with 1 Axes>"
      ]
     },
     "metadata": {
      "needs_background": "light"
     },
     "output_type": "display_data"
    }
   ],
   "source": [
    "df['account_age'] = round((df['tweet_date'] - df['account_date']).dt.days / 365, 0).astype(int)\n",
    "mean_likes_age = df[['account_age','likes']].groupby('account_age',as_index=False).mean()\n",
    "\n",
    "# chaning graph size\n",
    "plt.figure(figsize=(10,5))\n",
    "\n",
    "# generating graph\n",
    "graph = sns.barplot(x='account_age',y='likes',data=mean_likes_age, color='royalblue')\n",
    "\n",
    "# adding a horizontal line representing the overall mean\n",
    "graph.axhline(df['likes'].mean(), color='red',label='Overall Mean')\n",
    "\n",
    "# editing labels\n",
    "graph.set(title='Mean Likes by Account Age (Years)')\n",
    "graph.set_xlabel('Account Age (Years)')\n",
    "graph.set_ylabel('Mean Likes')\n",
    "\n",
    "plt.legend()\n",
    "plt.show()"
   ]
  },
  {
   "cell_type": "markdown",
   "id": "6c5a2050",
   "metadata": {},
   "source": [
    "It looks like account that were created 12-14 years ago get on average the most likes. However, accounts that were created within the last year also get above average likes, which could mean that account age might not have the most influence on average expected number of likes. Let's see what's the distribution for account age looks like."
   ]
  },
  {
   "cell_type": "code",
   "execution_count": 26,
   "id": "be9a71ba",
   "metadata": {},
   "outputs": [
    {
     "data": {
      "text/plain": [
       "(643590, 25)"
      ]
     },
     "execution_count": 26,
     "metadata": {},
     "output_type": "execute_result"
    }
   ],
   "source": [
    "# drop duplicate accounts\n",
    "age_df = df.drop_duplicates(subset='user_id', keep='first')\n",
    "age_df.shape"
   ]
  },
  {
   "cell_type": "code",
   "execution_count": 27,
   "id": "117b2f82",
   "metadata": {},
   "outputs": [
    {
     "data": {
      "text/html": [
       "<div>\n",
       "<style scoped>\n",
       "    .dataframe tbody tr th:only-of-type {\n",
       "        vertical-align: middle;\n",
       "    }\n",
       "\n",
       "    .dataframe tbody tr th {\n",
       "        vertical-align: top;\n",
       "    }\n",
       "\n",
       "    .dataframe thead th {\n",
       "        text-align: right;\n",
       "    }\n",
       "</style>\n",
       "<table border=\"1\" class=\"dataframe\">\n",
       "  <thead>\n",
       "    <tr style=\"text-align: right;\">\n",
       "      <th></th>\n",
       "      <th>account_age</th>\n",
       "      <th>count</th>\n",
       "    </tr>\n",
       "  </thead>\n",
       "  <tbody>\n",
       "    <tr>\n",
       "      <th>0</th>\n",
       "      <td>0</td>\n",
       "      <td>43966</td>\n",
       "    </tr>\n",
       "    <tr>\n",
       "      <th>1</th>\n",
       "      <td>1</td>\n",
       "      <td>63492</td>\n",
       "    </tr>\n",
       "    <tr>\n",
       "      <th>2</th>\n",
       "      <td>2</td>\n",
       "      <td>59100</td>\n",
       "    </tr>\n",
       "    <tr>\n",
       "      <th>3</th>\n",
       "      <td>3</td>\n",
       "      <td>51270</td>\n",
       "    </tr>\n",
       "    <tr>\n",
       "      <th>4</th>\n",
       "      <td>4</td>\n",
       "      <td>59905</td>\n",
       "    </tr>\n",
       "  </tbody>\n",
       "</table>\n",
       "</div>"
      ],
      "text/plain": [
       "   account_age  count\n",
       "0            0  43966\n",
       "1            1  63492\n",
       "2            2  59100\n",
       "3            3  51270\n",
       "4            4  59905"
      ]
     },
     "execution_count": 27,
     "metadata": {},
     "output_type": "execute_result"
    }
   ],
   "source": [
    "# count the likes (can be any column) to get the number of accounts active on that day\n",
    "age_df = age_df[['account_age','likes']].groupby('account_age',as_index=False).count()\n",
    "age_df.columns = ['account_age','count']\n",
    "age_df.head()"
   ]
  },
  {
   "cell_type": "code",
   "execution_count": 41,
   "id": "31e580c9",
   "metadata": {},
   "outputs": [
    {
     "data": {
      "image/png": "[encoded data removed]",
      "text/plain": [
       "<Figure size 720x360 with 1 Axes>"
      ]
     },
     "metadata": {},
     "output_type": "display_data"
    }
   ],
   "source": [
    "# chaning graph size\n",
    "plt.figure(figsize=(10,5))\n",
    "\n",
    "# generating graph\n",
    "graph = sns.barplot(x='account_age',y='count',data=age_df, color='royalblue')\n",
    "\n",
    "# adding a horizontal line representing the overall mean\n",
    "graph.axhline(age_df['count'].mean(), color='red',label='Overall Mean')\n",
    "\n",
    "# editing labels\n",
    "graph.set(title='Number of Accounts by Age')\n",
    "graph.set_xlabel('Account Age (Years)')\n",
    "graph.set_ylabel('# of Accounts')\n",
    "\n",
    "plt.legend()\n",
    "plt.show()"
   ]
  },
  {
   "cell_type": "markdown",
   "id": "08dfb351",
   "metadata": {},
   "source": [
    "It looks like accounts that have been create within the last 7 years have been the most active on this day. This could mean that there have been more users registering within recent years or that older accounts are not as active. An interesting exception to this are accounts that were created 12 years ago, these accounts had the most activity.\n",
    "\n",
    "Insted of checking each variable separately, let's create a plot that shows us a corellation for our quantitative variables."
   ]
  },
  {
   "cell_type": "code",
   "execution_count": 29,
   "id": "06b4d677",
   "metadata": {},
   "outputs": [
    {
     "data": {
      "image/png": "[encoded data removed]",
      "text/plain": [
       "<Figure size 1152x432 with 2 Axes>"
      ]
     },
     "metadata": {
      "needs_background": "light"
     },
     "output_type": "display_data"
    }
   ],
   "source": [
    "plt.figure(figsize=(16, 6))\n",
    "heatmap = sns.heatmap(df.corr(), vmin=-1, vmax=1, annot=True, cmap='BrBG')\n",
    "heatmap.set_title('Correlation Heatmap', fontdict={'fontsize':18}, pad=16);"
   ]
  },
  {
   "cell_type": "markdown",
   "id": "194afd46",
   "metadata": {},
   "source": [
    "One definitive thing we learned from above graph that account age is negatively correlated with user_id, but this just means that user_id values are integers that increase as more people register with twitter.\n",
    "\n",
    "I was also expecting to see contains_media and contains_links columns but it looks like the datatype was not saved as int or float. Let's also change the verified values to (1,0), and created a new cashtag and hashtag values and then check correlations again.\n",
    "\n",
    "While we're at it, let's also add the twitter content character length count and see if longer tweets lead to more likes."
   ]
  },
  {
   "cell_type": "code",
   "execution_count": 30,
   "id": "50ecdfde",
   "metadata": {},
   "outputs": [],
   "source": [
    "df['contains_links'] = df.contains_links.astype(int)\n",
    "df['contains_media'] = df.contains_media.astype(int)\n",
    "\n",
    "# pandas will automatically convert bool values to 1s and 0s\n",
    "df['user_verified'] = df['user_verified'].astype(int)\n",
    "\n",
    "# adding content length column\n",
    "df['tweet_length']  = df['tweet_content'].str.len()"
   ]
  },
  {
   "cell_type": "code",
   "execution_count": 31,
   "id": "f654d91b",
   "metadata": {},
   "outputs": [
    {
     "data": {
      "image/png": "[encoded data removed]",
      "text/plain": [
       "<Figure size 1152x432 with 2 Axes>"
      ]
     },
     "metadata": {
      "needs_background": "light"
     },
     "output_type": "display_data"
    }
   ],
   "source": [
    "plt.figure(figsize=(16, 6))\n",
    "\n",
    "\n",
    "heatmap = sns.heatmap(df[['likes','replies','retweets','quoted_count','user_verified',\n",
    "                               'followers','following','total_tweets','total_likes','total_media_tweets',\n",
    "                               'account_age','contains_links','contains_media','tweet_length']].corr(), \n",
    "                      vmin=-1, vmax=1, annot=True, cmap='RdBu')\n",
    "\n",
    "heatmap.set_title('Correlation Heatmap', fontdict={'fontsize':18}, pad=16);"
   ]
  },
  {
   "cell_type": "markdown",
   "id": "b9903dcc",
   "metadata": {},
   "source": [
    "In the above correlation graph we see that likes, replies, retweets, and quotes are all positively correlated with each other. This is not that surprising, people are more likely to share content they like and like content they want to share.\n",
    "\n",
    "We also learned that tweet_length has no correlation with likes, so typing more will not necessarily lead to tweets being liked more.\n",
    "\n",
    "Some of the other interesting positive correlations that we see are:\n",
    "* **total_media_tweets and followers (0.53)** - moderate positive correlation indicating that the more images,gifs,videos a user posts, the more likely are they to have more followers\n",
    "* **total_tweets and following (0.5)** - moderate positive correlation indicating a relationship between volume of tweets and the number of people the user follows\n",
    "* **total_tweets and total_media_tweets (0.48)** - weak positive correlation indicating that users that post a lot of media content tend to make a lot of posts\n",
    "\n",
    "Quite surprising to find out was that follower count is so weakly correlated with likes. I expected accounts with more followers to get more likes on their tweets. Let's look at this data a bit closer."
   ]
  },
  {
   "cell_type": "code",
   "execution_count": 32,
   "id": "4b2fe269",
   "metadata": {},
   "outputs": [
    {
     "name": "stdout",
     "output_type": "stream",
     "text": [
      " min followers:  0 \n",
      " max followers:  6224069 \n",
      " mean followers:  4642.689318074442 \n",
      " median followers:  368.0 \n",
      " mode followers:  0    0\n",
      "Name: followers, dtype: int64 \n",
      "tweets by users with no followers:  19265\n"
     ]
    }
   ],
   "source": [
    "print(' min followers: ', df.followers.min(),'\\n',\n",
    "     'max followers: ', df.followers.max(),'\\n',\n",
    "     'mean followers: ', df.followers.mean(),'\\n',\n",
    "     'median followers: ', df.followers.median(),'\\n',\n",
    "      'mode followers: ', df.followers.mode(),'\\n'\n",
    "     'tweets by users with no followers: ', df['followers'].loc[df['followers'] == 0].count())"
   ]
  },
  {
   "cell_type": "markdown",
   "id": "3107d889",
   "metadata": {},
   "source": [
    "The mean laying to the right of the median tells us that the distribution is right skewed. Let's visualize it."
   ]
  },
  {
   "cell_type": "code",
   "execution_count": 33,
   "id": "e54c762a",
   "metadata": {},
   "outputs": [
    {
     "data": {
      "text/html": [
       "<div>\n",
       "<style scoped>\n",
       "    .dataframe tbody tr th:only-of-type {\n",
       "        vertical-align: middle;\n",
       "    }\n",
       "\n",
       "    .dataframe tbody tr th {\n",
       "        vertical-align: top;\n",
       "    }\n",
       "\n",
       "    .dataframe thead th {\n",
       "        text-align: right;\n",
       "    }\n",
       "</style>\n",
       "<table border=\"1\" class=\"dataframe\">\n",
       "  <thead>\n",
       "    <tr style=\"text-align: right;\">\n",
       "      <th></th>\n",
       "      <th>decile_followers_rank</th>\n",
       "      <th>mean_followers</th>\n",
       "      <th>mean_likes</th>\n",
       "    </tr>\n",
       "  </thead>\n",
       "  <tbody>\n",
       "    <tr>\n",
       "      <th>0</th>\n",
       "      <td>0</td>\n",
       "      <td>17.539502</td>\n",
       "      <td>0.931286</td>\n",
       "    </tr>\n",
       "    <tr>\n",
       "      <th>1</th>\n",
       "      <td>1</td>\n",
       "      <td>65.654349</td>\n",
       "      <td>1.455764</td>\n",
       "    </tr>\n",
       "    <tr>\n",
       "      <th>2</th>\n",
       "      <td>2</td>\n",
       "      <td>126.651183</td>\n",
       "      <td>1.901136</td>\n",
       "    </tr>\n",
       "    <tr>\n",
       "      <th>3</th>\n",
       "      <td>3</td>\n",
       "      <td>204.267005</td>\n",
       "      <td>2.221566</td>\n",
       "    </tr>\n",
       "    <tr>\n",
       "      <th>4</th>\n",
       "      <td>4</td>\n",
       "      <td>305.766595</td>\n",
       "      <td>2.618060</td>\n",
       "    </tr>\n",
       "    <tr>\n",
       "      <th>5</th>\n",
       "      <td>5</td>\n",
       "      <td>448.758185</td>\n",
       "      <td>3.368421</td>\n",
       "    </tr>\n",
       "    <tr>\n",
       "      <th>6</th>\n",
       "      <td>6</td>\n",
       "      <td>670.696671</td>\n",
       "      <td>3.828180</td>\n",
       "    </tr>\n",
       "    <tr>\n",
       "      <th>7</th>\n",
       "      <td>7</td>\n",
       "      <td>1060.452185</td>\n",
       "      <td>4.618464</td>\n",
       "    </tr>\n",
       "    <tr>\n",
       "      <th>8</th>\n",
       "      <td>8</td>\n",
       "      <td>1936.588604</td>\n",
       "      <td>6.717954</td>\n",
       "    </tr>\n",
       "    <tr>\n",
       "      <th>9</th>\n",
       "      <td>9</td>\n",
       "      <td>41608.511015</td>\n",
       "      <td>39.749412</td>\n",
       "    </tr>\n",
       "  </tbody>\n",
       "</table>\n",
       "</div>"
      ],
      "text/plain": [
       "   decile_followers_rank  mean_followers  mean_likes\n",
       "0                      0       17.539502    0.931286\n",
       "1                      1       65.654349    1.455764\n",
       "2                      2      126.651183    1.901136\n",
       "3                      3      204.267005    2.221566\n",
       "4                      4      305.766595    2.618060\n",
       "5                      5      448.758185    3.368421\n",
       "6                      6      670.696671    3.828180\n",
       "7                      7     1060.452185    4.618464\n",
       "8                      8     1936.588604    6.717954\n",
       "9                      9    41608.511015   39.749412"
      ]
     },
     "execution_count": 33,
     "metadata": {},
     "output_type": "execute_result"
    }
   ],
   "source": [
    "df['decile_followers_rank'] = pd.qcut(df['followers'], 10, labels = False)\n",
    "followers_df = df[['followers','likes','decile_followers_rank']].groupby(\n",
    "    'decile_followers_rank',as_index=False).mean()\n",
    "\n",
    "followers_df.columns = ['decile_followers_rank','mean_followers','mean_likes']\n",
    "\n",
    "followers_df.head(10)"
   ]
  },
  {
   "cell_type": "code",
   "execution_count": 34,
   "id": "1460d7a7",
   "metadata": {},
   "outputs": [
    {
     "data": {
      "image/png": "[encoded data removed]",
      "text/plain": [
       "<Figure size 864x360 with 2 Axes>"
      ]
     },
     "metadata": {},
     "output_type": "display_data"
    }
   ],
   "source": [
    "sns.set_style(\"whitegrid\")\n",
    "fig, ax = plt.subplots(figsize=(12,5))\n",
    "\n",
    "\n",
    "ax = sns.lineplot(x='decile_followers_rank', y='mean_followers', data=followers_df, color='orange', ax=ax)\n",
    "ax2 = ax.twinx()\n",
    "sns.lineplot(x='decile_followers_rank', y='mean_likes', data=followers_df, color='green', markers=True, ax=ax2)\n",
    "\n",
    "\n",
    "ax.legend(['mean_followers'])\n",
    "ax2.legend(['mean_likes'],loc='center left')\n",
    "ax.set(title='Mean Followers and Mean Likes by Decile Followers Rank')\n",
    "\n",
    "\n",
    "plt.show()"
   ]
  },
  {
   "cell_type": "markdown",
   "id": "a050ce2b",
   "metadata": {},
   "source": [
    "Looking at the above table we see that the followers count and likes are indeed correlated. However, to reach an overall mean of 6.7 likes, on average a user needs to be in the **9th decile of the followers rank**.\n",
    "\n",
    "\n",
    "Let's see what type of hashtags were trending on Friday."
   ]
  },
  {
   "cell_type": "code",
   "execution_count": 35,
   "id": "d71c3a12",
   "metadata": {},
   "outputs": [],
   "source": [
    "# iterate over all hashtags and count occurences\n",
    "\n",
    "hashtag_dict = {}\n",
    "\n",
    "for hashtags in df['hashtags'].tolist():\n",
    "    if hashtags != 0:\n",
    "        for hashtag in pd.eval(hashtags):\n",
    "            hashtag_dict[hashtag] = hashtag_dict.get(hashtag, 0) + 1"
   ]
  },
  {
   "cell_type": "code",
   "execution_count": 36,
   "id": "dfc4f369",
   "metadata": {},
   "outputs": [
    {
     "name": "stderr",
     "output_type": "stream",
     "text": [
      "/var/folders/3m/w_xtc04n3tg928zm5h2rc5k00000gp/T/ipykernel_65143/2086062599.py:6: FutureWarning: In a future version of pandas all arguments of DataFrame.drop except for the argument 'labels' will be keyword-only.\n",
      "  hash_df = hash_df.drop('index',1)\n"
     ]
    },
    {
     "data": {
      "text/html": [
       "<div>\n",
       "<style scoped>\n",
       "    .dataframe tbody tr th:only-of-type {\n",
       "        vertical-align: middle;\n",
       "    }\n",
       "\n",
       "    .dataframe tbody tr th {\n",
       "        vertical-align: top;\n",
       "    }\n",
       "\n",
       "    .dataframe thead th {\n",
       "        text-align: right;\n",
       "    }\n",
       "</style>\n",
       "<table border=\"1\" class=\"dataframe\">\n",
       "  <thead>\n",
       "    <tr style=\"text-align: right;\">\n",
       "      <th></th>\n",
       "      <th>hashtag</th>\n",
       "      <th>count</th>\n",
       "    </tr>\n",
       "  </thead>\n",
       "  <tbody>\n",
       "    <tr>\n",
       "      <th>0</th>\n",
       "      <td>質問箱</td>\n",
       "      <td>32790</td>\n",
       "    </tr>\n",
       "    <tr>\n",
       "      <th>1</th>\n",
       "      <td>匿名質問募集中</td>\n",
       "      <td>28249</td>\n",
       "    </tr>\n",
       "    <tr>\n",
       "      <th>2</th>\n",
       "      <td>Yahooニュース</td>\n",
       "      <td>6084</td>\n",
       "    </tr>\n",
       "    <tr>\n",
       "      <th>3</th>\n",
       "      <td>shindanmaker</td>\n",
       "      <td>5759</td>\n",
       "    </tr>\n",
       "    <tr>\n",
       "      <th>4</th>\n",
       "      <td>Mステ</td>\n",
       "      <td>5178</td>\n",
       "    </tr>\n",
       "    <tr>\n",
       "      <th>5</th>\n",
       "      <td>Peing</td>\n",
       "      <td>4447</td>\n",
       "    </tr>\n",
       "    <tr>\n",
       "      <th>6</th>\n",
       "      <td>ミクダヨーサンオミクジ</td>\n",
       "      <td>3623</td>\n",
       "    </tr>\n",
       "    <tr>\n",
       "      <th>7</th>\n",
       "      <td>アメブロ</td>\n",
       "      <td>3107</td>\n",
       "    </tr>\n",
       "    <tr>\n",
       "      <th>8</th>\n",
       "      <td>rakuafl</td>\n",
       "      <td>2919</td>\n",
       "    </tr>\n",
       "    <tr>\n",
       "      <th>9</th>\n",
       "      <td>配信</td>\n",
       "      <td>2731</td>\n",
       "    </tr>\n",
       "  </tbody>\n",
       "</table>\n",
       "</div>"
      ],
      "text/plain": [
       "        hashtag  count\n",
       "0           質問箱  32790\n",
       "1       匿名質問募集中  28249\n",
       "2     Yahooニュース   6084\n",
       "3  shindanmaker   5759\n",
       "4           Mステ   5178\n",
       "5         Peing   4447\n",
       "6   ミクダヨーサンオミクジ   3623\n",
       "7          アメブロ   3107\n",
       "8       rakuafl   2919\n",
       "9            配信   2731"
      ]
     },
     "execution_count": 36,
     "metadata": {},
     "output_type": "execute_result"
    }
   ],
   "source": [
    "# converting the hashtag dictionary into a pd df\n",
    "hash_df = pd.DataFrame(hashtag_dict.items(),columns=['hashtag', 'count'])\n",
    "\n",
    "# descending sort on counts of most used hashtags and removal of the index\n",
    "hash_df = hash_df.sort_values(['count'], ascending=False).reset_index()\n",
    "hash_df = hash_df.drop('index',1)\n",
    "hash_df.head(10)"
   ]
  },
  {
   "cell_type": "code",
   "execution_count": 37,
   "id": "237aacf7",
   "metadata": {},
   "outputs": [
    {
     "data": {
      "text/plain": [
       "12.393848720935162"
      ]
     },
     "execution_count": 37,
     "metadata": {},
     "output_type": "execute_result"
    }
   ],
   "source": [
    "# % of tweets that contains hashtags\n",
    "df['hashtags'].loc[df['hashtags'] != 0].count()/df['hashtags'].count()*100"
   ]
  },
  {
   "cell_type": "markdown",
   "id": "f6cf03eb",
   "metadata": {},
   "source": [
    "* Some popular hashtags:\n",
    "    * It looks like the most trending hashtags was 質問箱 (question box) hosted on the website called Peing. A user writes a question and it appears like it is handwritten on a sticky note. Other users then answer the question on a sticky note on twitter and share it with their friends. One of the first questions that popped up when searching the hashtag was \"if your schedule was suddenly open on a weekend, what would you do?\" ([link here](https://peing.net/ja/q/29b9a69d-2721-4313-a037-109cb75115ac)).\n",
    "    * Next on the list is Yahoo news which needs not explanation\n",
    "    * Then we have shindanmaker which seems to operate on a similar basis as the (questions box). One of first results was a question: あなたがモテない原因上位5つを調べます (5 reasons you are unattractive)\n",
    "    * Mステ (music station) - looks like a boy band called King Stix was popular on that day\n",
    "    \n",
    "Let's see what popular cashtags did we see on that day."
   ]
  },
  {
   "cell_type": "code",
   "execution_count": 38,
   "id": "9ec7aee0",
   "metadata": {},
   "outputs": [
    {
     "name": "stderr",
     "output_type": "stream",
     "text": [
      "/var/folders/3m/w_xtc04n3tg928zm5h2rc5k00000gp/T/ipykernel_65143/1419421867.py:15: FutureWarning: In a future version of pandas all arguments of DataFrame.drop except for the argument 'labels' will be keyword-only.\n",
      "  cash_df = cash_df.drop('index',1)\n"
     ]
    },
    {
     "data": {
      "text/html": [
       "<div>\n",
       "<style scoped>\n",
       "    .dataframe tbody tr th:only-of-type {\n",
       "        vertical-align: middle;\n",
       "    }\n",
       "\n",
       "    .dataframe tbody tr th {\n",
       "        vertical-align: top;\n",
       "    }\n",
       "\n",
       "    .dataframe thead th {\n",
       "        text-align: right;\n",
       "    }\n",
       "</style>\n",
       "<table border=\"1\" class=\"dataframe\">\n",
       "  <thead>\n",
       "    <tr style=\"text-align: right;\">\n",
       "      <th></th>\n",
       "      <th>hashtag</th>\n",
       "      <th>count</th>\n",
       "    </tr>\n",
       "  </thead>\n",
       "  <tbody>\n",
       "    <tr>\n",
       "      <th>0</th>\n",
       "      <td>TSLA</td>\n",
       "      <td>34</td>\n",
       "    </tr>\n",
       "    <tr>\n",
       "      <th>1</th>\n",
       "      <td>BTCJPY</td>\n",
       "      <td>24</td>\n",
       "    </tr>\n",
       "    <tr>\n",
       "      <th>2</th>\n",
       "      <td>HIRSHI</td>\n",
       "      <td>24</td>\n",
       "    </tr>\n",
       "    <tr>\n",
       "      <th>3</th>\n",
       "      <td>DOCU</td>\n",
       "      <td>18</td>\n",
       "    </tr>\n",
       "    <tr>\n",
       "      <th>4</th>\n",
       "      <td>GST</td>\n",
       "      <td>18</td>\n",
       "    </tr>\n",
       "  </tbody>\n",
       "</table>\n",
       "</div>"
      ],
      "text/plain": [
       "  hashtag  count\n",
       "0    TSLA     34\n",
       "1  BTCJPY     24\n",
       "2  HIRSHI     24\n",
       "3    DOCU     18\n",
       "4     GST     18"
      ]
     },
     "execution_count": 38,
     "metadata": {},
     "output_type": "execute_result"
    }
   ],
   "source": [
    "# iterate over all hashtags and count occurences\n",
    "\n",
    "cashtag_dict = {}\n",
    "\n",
    "for cashtags in df['cashtags'].tolist():\n",
    "    if cashtags != 0:\n",
    "        for cashtag in pd.eval(cashtags):\n",
    "            cashtag_dict[cashtag] = cashtag_dict.get(cashtag, 0) + 1\n",
    "            \n",
    "# converting the hashtag dictionary into a pd df\n",
    "cash_df = pd.DataFrame(cashtag_dict.items(),columns=['hashtag', 'count'])\n",
    "\n",
    "# descending sort on counts of most used hashtags and removal of the index\n",
    "cash_df = cash_df.sort_values(['count'], ascending=False).reset_index()\n",
    "cash_df = cash_df.drop('index',1)\n",
    "cash_df.head(5)"
   ]
  },
  {
   "cell_type": "code",
   "execution_count": 39,
   "id": "3efbca64",
   "metadata": {},
   "outputs": [
    {
     "data": {
      "text/plain": [
       "0.014429078692096656"
      ]
     },
     "execution_count": 39,
     "metadata": {},
     "output_type": "execute_result"
    }
   ],
   "source": [
    "# % of tweets that contains hashtags\n",
    "df['cashtags'].loc[df['cashtags'] != 0].count()/df['cashtags'].count()*100"
   ]
  },
  {
   "cell_type": "markdown",
   "id": "853170f6",
   "metadata": {},
   "source": [
    "With only 0.01% of tweets containing cashtags (stock exchange ticker symbols), it looks like finance conversations are not really taking place on Twitter in Japan.\n",
    "\n",
    "Finally, let's see what devices are people using to post their tweets with."
   ]
  },
  {
   "cell_type": "code",
   "execution_count": 40,
   "id": "2b21d899",
   "metadata": {},
   "outputs": [
    {
     "data": {
      "text/plain": [
       "Twitter for iPhone       1772461\n",
       "Twitter for Android       876352\n",
       "Twitter Web App           360986\n",
       "twittbot.net              159051\n",
       "Twitter for iPad           46541\n",
       "OWNLY Admin                37238\n",
       "Peing                      32799\n",
       "TweetDeck                  29794\n",
       "グランブルー ファンタジー              22889\n",
       "Botbird tweets             11813\n",
       "Instagram                  11252\n",
       "Foursquare                  9828\n",
       "WordPress.com               5835\n",
       "Foursquare Swarm            5134\n",
       "feather for iOS             5063\n",
       "今日のツイライフ                    5036\n",
       "SocialDog for Twitter       4744\n",
       "TwitPane for Android        4485\n",
       "Tweetbot for iΟS            4245\n",
       "Echofon                     4149\n",
       "Name: device, dtype: int64"
      ]
     },
     "execution_count": 40,
     "metadata": {},
     "output_type": "execute_result"
    }
   ],
   "source": [
    "df.device.value_counts().head(20)"
   ]
  },
  {
   "cell_type": "markdown",
   "id": "72906eaa",
   "metadata": {},
   "source": [
    "It looks like there are many different devices and platforms from which users may post tweets. The two most popular being iPhone and Android phones."
   ]
  }
 ],
 "metadata": {
  "kernelspec": {
   "display_name": "Python 3 (ipykernel)",
   "language": "python",
   "name": "python3"
  },
  "language_info": {
   "codemirror_mode": {
    "name": "ipython",
    "version": 3
   },
   "file_extension": ".py",
   "mimetype": "text/x-python",
   "name": "python",
   "nbconvert_exporter": "python",
   "pygments_lexer": "ipython3",
   "version": "3.7.7"
  }
 },
 "nbformat": 4,
 "nbformat_minor": 5
}
